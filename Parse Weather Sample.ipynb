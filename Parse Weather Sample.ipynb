{
 "cells": [
  {
   "cell_type": "code",
   "execution_count": 1,
   "metadata": {
    "collapsed": true
   },
   "outputs": [],
   "source": [
    "import json, requests"
   ]
  },
  {
   "cell_type": "code",
   "execution_count": 2,
   "metadata": {
    "collapsed": false
   },
   "outputs": [],
   "source": [
    "key = \"YOUR_WEATHER_CENTER_BUREAU_KEY\""
   ]
  },
  {
   "cell_type": "code",
   "execution_count": 3,
   "metadata": {
    "collapsed": false
   },
   "outputs": [],
   "source": [
    "def analyzeLocation(userMsg):\n",
    "    locations = [\n",
    "        u\"宜蘭\", \n",
    "        u\"花蓮\", \n",
    "        u\"臺東\", \n",
    "        u\"台東\", \n",
    "        u\"澎湖\", \n",
    "        u\"金門\", \n",
    "        u\"連江\", \n",
    "        u\"臺北\", \n",
    "        u\"台北\",\n",
    "        u\"新北\", \n",
    "        u\"桃園\", \n",
    "        u\"臺中\",\n",
    "        u\"台中\", \n",
    "        u\"臺南\",\n",
    "        u\"台南\",\n",
    "        u\"高雄\",\n",
    "        u\"基隆\",\n",
    "        u\"新竹\",\n",
    "        u\"苗栗\",\n",
    "        u\"彰化\",\n",
    "        u\"南投\",\n",
    "        u\"雲林\",\n",
    "        u\"嘉義\",\n",
    "        u\"屏東\"\n",
    "    ]\n",
    "    \n",
    "    location = \"\"\n",
    "    wordIndex = 0\n",
    "    for county in locations:\n",
    "        if userMsg.find(county) != -1:\n",
    "            wordIndex = userMsg.find(county)\n",
    "            \n",
    "            location = userMsg[wordIndex: wordIndex + 2]\n",
    "            if location[0] == u'台':\n",
    "                location = u'臺' + location[1]\n",
    "                \n",
    "    print 'get location: ' + location\n",
    "    \n",
    "    # 加上縣\n",
    "    if len(location) > 0:\n",
    "        if (location == u\"宜蘭\" or location == u\"花蓮\" or\n",
    "        location ==  u\"臺東\" or location == u\"澎湖\" or \n",
    "        location == u\"金門\" or location == u\"連江\" or\n",
    "        location == u\"彰化\" or location == u\"南投\" or \n",
    "        location == u\"雲林\" or location == u\"屏東\"):\n",
    "            location += u\"縣\"\n",
    "           \n",
    "    # 處理有「縣」和「市」的\n",
    "    if location == u\"苗栗\" or location == u\"嘉義\" or \\\n",
    "    location == u\"新竹\":\n",
    "        countyLevel = userMsg[wordIndex + 2: wordIndex + 3]\n",
    "        if countyLevel == u\"縣\" or countyLevel == u\"市\":\n",
    "            # 採用使用者輸入的縣或市\n",
    "            location += countyLevel\n",
    "        else:\n",
    "            # 使用者未輸入，預設採用「市」\n",
    "            location += u\"市\"\n",
    "    \n",
    "    # 加入市\n",
    "    if (location == u\"臺北\" or location == u\"新北\" or\n",
    "    location == u\"桃園\" or location == u\"臺中\" or \n",
    "    location == u\"臺南\" or location == u\"高雄\" or \n",
    "    location == u\"基隆\"):\n",
    "        location += u\"市\"\n",
    "    \n",
    "    return location"
   ]
  },
  {
   "cell_type": "code",
   "execution_count": 4,
   "metadata": {
    "collapsed": false
   },
   "outputs": [],
   "source": [
    "def getWeatherResponse(cityName, key):\n",
    "    rootUrl = \"http://opendata.cwb.gov.tw/api/v1/rest/datastore/F-C0032-001\"\n",
    "    headers = {'Authorization': key}\n",
    "    requestUrl = rootUrl + '?locationName=' + cityName + '&elementName=Wx' + '&sort=time'\n",
    "    r = requests.get(requestUrl, headers=headers)\n",
    "    print 'weather request status code: ' + str(r.status_code)\n",
    "    if r.status_code == 200:\n",
    "        return r.json()\n",
    "    else:\n",
    "        return None"
   ]
  },
  {
   "cell_type": "code",
   "execution_count": 5,
   "metadata": {
    "collapsed": false
   },
   "outputs": [],
   "source": [
    "def getAllWeathers(result):\n",
    "    weatherStates = []\n",
    "    weatherElements = result['records']['location'][0]['weatherElement'][0]['time']\n",
    "    for weather in weatherElements:\n",
    "        startTime = weather['startTime']\n",
    "        endTime = weather['endTime']\n",
    "        msg = u'未來36小時預報\\n' + u'從' + startTime + u'\\n到' + endTime \\\n",
    "        + u'\\n天氣情況: ' + weather['parameter']['paramterName'] + u'\\n\\n'\n",
    "        weatherStates.append(msg)\n",
    "    return weatherStates"
   ]
  },
  {
   "cell_type": "code",
   "execution_count": 6,
   "metadata": {
    "collapsed": true
   },
   "outputs": [],
   "source": [
    "def getCurrentWeather(result):\n",
    "    location = result['records']['location'][0]['locationName']\n",
    "    currWeather = result['records']['location'][0]['weatherElement'][0]['time'][0]\n",
    "    msg = u'現在' + location + u'天氣: ' + currWeather['parameter']['paramterName']\n",
    "    return msg"
   ]
  },
  {
   "cell_type": "code",
   "execution_count": 7,
   "metadata": {
    "collapsed": true
   },
   "outputs": [],
   "source": [
    "def getReplyMsg(allWeather, currWeather):\n",
    "    msg = \"\"\n",
    "    for weatherMsg in allWeathers:\n",
    "        msg += weatherMsg\n",
    "    return msg + currWeather"
   ]
  },
  {
   "cell_type": "code",
   "execution_count": 8,
   "metadata": {
    "collapsed": false
   },
   "outputs": [
    {
     "name": "stdout",
     "output_type": "stream",
     "text": [
      "get location: 新北\n"
     ]
    }
   ],
   "source": [
    "test = u'今天新北天氣如何？'\n",
    "loc = analyzeLocation(test)"
   ]
  },
  {
   "cell_type": "code",
   "execution_count": 10,
   "metadata": {
    "collapsed": false
   },
   "outputs": [
    {
     "name": "stdout",
     "output_type": "stream",
     "text": [
      "weather request status code: 200\n"
     ]
    }
   ],
   "source": [
    "r = getWeatherResponse(loc, key)"
   ]
  },
  {
   "cell_type": "code",
   "execution_count": 11,
   "metadata": {
    "collapsed": false
   },
   "outputs": [],
   "source": [
    "allWeathers = getAllWeathers(r)"
   ]
  },
  {
   "cell_type": "code",
   "execution_count": 12,
   "metadata": {
    "collapsed": false
   },
   "outputs": [],
   "source": [
    "currWea = getCurrentWeather(r)"
   ]
  },
  {
   "cell_type": "code",
   "execution_count": 13,
   "metadata": {
    "collapsed": false
   },
   "outputs": [
    {
     "name": "stdout",
     "output_type": "stream",
     "text": [
      "未來36小時預報\n",
      "從2016-12-30 12:00:00\n",
      "到2016-12-30 18:00:00\n",
      "天氣情況: 多雲時晴\n",
      "\n",
      "未來36小時預報\n",
      "從2016-12-30 18:00:00\n",
      "到2016-12-31 06:00:00\n",
      "天氣情況: 晴時多雲\n",
      "\n",
      "未來36小時預報\n",
      "從2016-12-31 06:00:00\n",
      "到2016-12-31 18:00:00\n",
      "天氣情況: 多雲\n",
      "\n",
      "現在新北市天氣: 多雲時晴\n"
     ]
    }
   ],
   "source": [
    "print getReplyMsg(allWeathers, currWea)"
   ]
  },
  {
   "cell_type": "code",
   "execution_count": null,
   "metadata": {
    "collapsed": true
   },
   "outputs": [],
   "source": []
  }
 ],
 "metadata": {
  "kernelspec": {
   "display_name": "Python 2",
   "language": "python",
   "name": "python2"
  },
  "language_info": {
   "codemirror_mode": {
    "name": "ipython",
    "version": 2
   },
   "file_extension": ".py",
   "mimetype": "text/x-python",
   "name": "python",
   "nbconvert_exporter": "python",
   "pygments_lexer": "ipython2",
   "version": "2.7.12"
  }
 },
 "nbformat": 4,
 "nbformat_minor": 0
}
